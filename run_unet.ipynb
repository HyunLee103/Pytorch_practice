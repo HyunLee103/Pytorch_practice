{
  "nbformat": 4,
  "nbformat_minor": 0,
  "metadata": {
    "colab": {
      "name": "run_unet.ipynb",
      "provenance": [],
      "mount_file_id": "1ZP-UicNG-JnXYrempwLmPHJhH87OHXvg",
      "authorship_tag": "ABX9TyPXcy50J3tIz22gXQrlvNd9",
      "include_colab_link": true
    },
    "kernelspec": {
      "name": "python3",
      "display_name": "Python 3"
    },
    "accelerator": "GPU"
  },
  "cells": [
    {
      "cell_type": "markdown",
      "metadata": {
        "id": "view-in-github",
        "colab_type": "text"
      },
      "source": [
        "<a href=\"https://colab.research.google.com/github/HyunLee103/Pytorch_practice/blob/master/run_unet.ipynb\" target=\"_parent\"><img src=\"https://colab.research.google.com/assets/colab-badge.svg\" alt=\"Open In Colab\"/></a>"
      ]
    },
    {
      "cell_type": "code",
      "metadata": {
        "id": "xAnSPajosGWg",
        "colab_type": "code",
        "outputId": "1e01fc8d-db69-4e15-fd31-1227806a5012",
        "colab": {
          "base_uri": "https://localhost:8080/",
          "height": 712
        }
      },
      "source": [
        "!python3 '/content/drive/My Drive/Colab Notebooks/파이토치/Architecture practice/UNet/train.py' \\\n",
        "--lr 1e-2 --batch_size 2 --num_epoch 50 \\\n",
        "--data_dir \"/content/drive/My Drive/Colab Notebooks/파이토치/Architecture practice/UNet/data\" \\\n",
        "--ckpt_dir '/content/drive/My Drive/Colab Notebooks/파이토치/Architecture practice/UNet/checkpoint_v2' \\\n",
        "--log_dir '/content/drive/My Drive/Colab Notebooks/파이토치/Architecture practice/UNet/log_v2' \\\n",
        "--result_dir '/content/drive/My Drive/Colab Notebooks/파이토치/Architecture practice/UNet/result_v2' \\\n",
        "--mode 'train' \\\n",
        "--train_continue 'off'\n"
      ],
      "execution_count": 0,
      "outputs": [
        {
          "output_type": "stream",
          "text": [
            "learning rate: 1.0000e-02\n",
            "batch size: 2\n",
            "number of epoch: 50\n",
            "data dir: /content/drive/My Drive/Colab Notebooks/파이토치/Architecture practice/UNet/data\n",
            "ckpt dir: /content/drive/My Drive/Colab Notebooks/파이토치/Architecture practice/UNet/checkpoint_v2\n",
            "log dir: /content/drive/My Drive/Colab Notebooks/파이토치/Architecture practice/UNet/log_v2\n",
            "result dir: /content/drive/My Drive/Colab Notebooks/파이토치/Architecture practice/UNet/result_v2\n",
            "mode: train\n",
            "2020-05-02 09:47:58.846227: I tensorflow/stream_executor/platform/default/dso_loader.cc:44] Successfully opened dynamic library libcudart.so.10.1\n",
            "Traceback (most recent call last):\n",
            "  File \"/usr/local/lib/python3.6/dist-packages/PIL/ImageFile.py\", line 496, in _save\n",
            "    fh = fp.fileno()\n",
            "AttributeError: '_idat' object has no attribute 'fileno'\n",
            "\n",
            "During handling of the above exception, another exception occurred:\n",
            "\n",
            "Traceback (most recent call last):\n",
            "  File \"/content/drive/My Drive/Colab Notebooks/파이토치/Architecture practice/UNet/train.py\", line 156, in <module>\n",
            "    writer_train.add_image('input', inputs, num_train_for_epoch * (epoch - 1) + batch, dataformats='NHWC')\n",
            "  File \"/usr/local/lib/python3.6/dist-packages/torch/utils/tensorboard/writer.py\", line 540, in add_image\n",
            "    image(tag, img_tensor, dataformats=dataformats), global_step, walltime)\n",
            "  File \"/usr/local/lib/python3.6/dist-packages/torch/utils/tensorboard/summary.py\", line 307, in image\n",
            "    image = make_image(tensor, rescale=rescale)\n",
            "  File \"/usr/local/lib/python3.6/dist-packages/torch/utils/tensorboard/summary.py\", line 351, in make_image\n",
            "    image.save(output, format='PNG')\n",
            "  File \"/usr/local/lib/python3.6/dist-packages/PIL/Image.py\", line 2102, in save\n",
            "    save_handler(self, fp, filename)\n",
            "  File \"/usr/local/lib/python3.6/dist-packages/PIL/PngImagePlugin.py\", line 900, in _save\n",
            "    ImageFile._save(im, _idat(fp, chunk), [(\"zip\", (0, 0) + im.size, 0, rawmode)])\n",
            "  File \"/usr/local/lib/python3.6/dist-packages/PIL/ImageFile.py\", line 510, in _save\n",
            "    l, s, d = e.encode(bufsize)\n",
            "KeyboardInterrupt\n"
          ],
          "name": "stdout"
        }
      ]
    },
    {
      "cell_type": "code",
      "metadata": {
        "id": "XLWEGi8PuoL7",
        "colab_type": "code",
        "colab": {}
      },
      "source": [
        ""
      ],
      "execution_count": 0,
      "outputs": []
    }
  ]
}