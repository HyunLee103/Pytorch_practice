{
  "nbformat": 4,
  "nbformat_minor": 0,
  "metadata": {
    "colab": {
      "name": "Pytorch_tutorial_2.ipynb",
      "provenance": [],
      "authorship_tag": "ABX9TyOY1wB3Kw3jHopFbleKsvX0",
      "include_colab_link": true
    },
    "kernelspec": {
      "name": "python3",
      "display_name": "Python 3"
    }
  },
  "cells": [
    {
      "cell_type": "markdown",
      "metadata": {
        "id": "view-in-github",
        "colab_type": "text"
      },
      "source": [
        "<a href=\"https://colab.research.google.com/github/HyunLee103/Pytorch_practice/blob/master/Pytorch_tutorial_2.ipynb\" target=\"_parent\"><img src=\"https://colab.research.google.com/assets/colab-badge.svg\" alt=\"Open In Colab\"/></a>"
      ]
    },
    {
      "cell_type": "code",
      "metadata": {
        "id": "PMY_zWWeZvdd",
        "colab_type": "code",
        "colab": {}
      },
      "source": [
        "import torch\n",
        "import torch.optim as optim\n",
        "import torchvision\n",
        "import torchvision.transforms as transforms\n",
        "import torch.nn as nn\n",
        "import torch.nn.functional as F\n",
        "import matplotlib.pyplot as plt\n",
        "import numpy as np"
      ],
      "execution_count": 0,
      "outputs": []
    },
    {
      "cell_type": "markdown",
      "metadata": {
        "id": "Q_rw3Hr2wSqs",
        "colab_type": "text"
      },
      "source": [
        "## data prepare"
      ]
    },
    {
      "cell_type": "markdown",
      "metadata": {
        "id": "Bhid0Xv9wSni",
        "colab_type": "text"
      },
      "source": [
        ""
      ]
    },
    {
      "cell_type": "code",
      "metadata": {
        "id": "z1GX4ypwZ_XG",
        "colab_type": "code",
        "colab": {
          "base_uri": "https://localhost:8080/",
          "height": 52
        },
        "outputId": "0fc5e249-d46d-43c1-86c9-0544d8c8cb1b"
      },
      "source": [
        "# 데이터 정규화 > loss function의 balace를 맞춰 optimization 효율을 높힌다.\n",
        "transform = transforms.Compose([transforms.ToTensor(),transforms.Normalize((0.5,0.5,0.5),(0.5,0.5,0.5))]) # ??\n",
        "\n",
        "trainset = torchvision.datasets.CIFAR10(root='./data', train=True,download=True, transform=transform)\n",
        "# torch.utils.data.DataLoader : 각 배치 단위로 데이터와 라벨을 return\n",
        "# 데이터는 (batch x channel x row x col)\n",
        "trainloader = torch.utils.data.DataLoader(trainset, batch_size=4,shuffle=True, num_workers=2) \n",
        "# num_workers : 데이터 load 때 사용할 subprocess 수 \n",
        "\n",
        "testset = torchvision.datasets.CIFAR10(root='./data', train=False,download=True, transform=transform)\n",
        "testloader = torch.utils.data.DataLoader(testset, batch_size=4,shuffle=False, num_workers=2) # testset은 왜 shuffle 안하지?\n",
        "\n",
        "classes = ('plane', 'car', 'bird', 'cat','deer', 'dog', 'frog', 'horse', 'ship', 'truck')"
      ],
      "execution_count": 34,
      "outputs": [
        {
          "output_type": "stream",
          "text": [
            "Files already downloaded and verified\n",
            "Files already downloaded and verified\n"
          ],
          "name": "stdout"
        }
      ]
    },
    {
      "cell_type": "code",
      "metadata": {
        "id": "g0JqzQpIeMQu",
        "colab_type": "code",
        "colab": {
          "base_uri": "https://localhost:8080/",
          "height": 34
        },
        "outputId": "563159d0-e624-403f-a163-46f7c2063f1d"
      },
      "source": [
        "for data, label in trainloader:\n",
        "  print(data.shape,label)\n",
        "  break"
      ],
      "execution_count": 35,
      "outputs": [
        {
          "output_type": "stream",
          "text": [
            "torch.Size([4, 3, 32, 32]) tensor([0, 4, 7, 5])\n"
          ],
          "name": "stdout"
        }
      ]
    },
    {
      "cell_type": "code",
      "metadata": {
        "id": "PP2j2PxlcieH",
        "colab_type": "code",
        "colab": {}
      },
      "source": [
        "def imshow(img,i):\n",
        "  img[i] = img[i]/2 + 0.5\n",
        "  npimg = img[i].numpy()\n",
        "  plt.imshow(np.transpose(npimg,(1,2,0))) \n",
        "  plt.show()\n",
        "  print(classes[labels[i]])"
      ],
      "execution_count": 0,
      "outputs": []
    },
    {
      "cell_type": "code",
      "metadata": {
        "id": "sZOlfUsZdcxj",
        "colab_type": "code",
        "colab": {
          "base_uri": "https://localhost:8080/",
          "height": 283
        },
        "outputId": "77df5b3e-b5cf-4af5-cbe7-c1557ac713f7"
      },
      "source": [
        "dataiter = iter(trainloader) # iter??\n",
        "image, labels = dataiter.next()\n",
        "\n",
        "imshow(image,3)"
      ],
      "execution_count": 37,
      "outputs": [
        {
          "output_type": "display_data",
          "data": {
            "image/png": "[encoded data removed]",
            "text/plain": [
              "<Figure size 432x288 with 1 Axes>"
            ]
          },
          "metadata": {
            "tags": [],
            "needs_background": "light"
          }
        },
        {
          "output_type": "stream",
          "text": [
            "cat\n"
          ],
          "name": "stdout"
        }
      ]
    },
    {
      "cell_type": "markdown",
      "metadata": {
        "id": "dFnagvKhwQC6",
        "colab_type": "text"
      },
      "source": [
        "## modeling"
      ]
    },
    {
      "cell_type": "code",
      "metadata": {
        "id": "4gzHP_xthiFB",
        "colab_type": "code",
        "colab": {}
      },
      "source": [
        "class Net(nn.Module):\n",
        "  def __init__(self):\n",
        "    super(Net,self).__init__()\n",
        "    self.conv1 = nn.Conv2d(3,6,5) \n",
        "    self.pool = nn.MaxPool2d(2,2) \n",
        "    self.conv2 = nn.Conv2d(6,16,5) \n",
        "    self.fc1 = nn.Linear(16*5*5,120)\n",
        "    self.fc2 = nn.Linear(120,84)\n",
        "    self.fc3 = nn.Linear(84,10)\n",
        "\n",
        "  def forward(self,x):\n",
        "    x = self.pool(F.relu(self.conv1(x))) \n",
        "    x = self.pool(F.relu(self.conv2(x)))\n",
        "    x = x.view(-1,16*5*5)\n",
        "    x = F.relu(self.fc1(x))\n",
        "    x = F.relu(self.fc2(x))\n",
        "    x = self.fc3(x)  # 예측값이 원핫벡터이면, 마지막에 sotfmax 함수를 통과시켜주는게 맞다, 이 경우는 아님\n",
        "    return x\n",
        "\n",
        "net = Net()"
      ],
      "execution_count": 0,
      "outputs": []
    },
    {
      "cell_type": "code",
      "metadata": {
        "id": "sNcoaxLCpret",
        "colab_type": "code",
        "colab": {}
      },
      "source": [
        "criterion = nn.CrossEntropyLoss()\n",
        "optimizer = optim.Adam(net.parameters(),lr =0.001)"
      ],
      "execution_count": 0,
      "outputs": []
    },
    {
      "cell_type": "markdown",
      "metadata": {
        "id": "iVQub8E-wLbP",
        "colab_type": "text"
      },
      "source": [
        "## traning"
      ]
    },
    {
      "cell_type": "code",
      "metadata": {
        "id": "8mLq5q3FqELY",
        "colab_type": "code",
        "colab": {
          "base_uri": "https://localhost:8080/",
          "height": 247
        },
        "outputId": "2bc3c795-5dbd-4ec7-b41e-749e5f9822cb"
      },
      "source": [
        "for epoch in range(2):\n",
        "  running_loss = 0.0\n",
        "  for i, data in enumerate(trainloader): # ?? trainloader가 [inputs, labels] 목록이라 이러면 i,data에 각각 들어가지 않나?\n",
        "    inputs, labels = data\n",
        "\n",
        "    optimizer.zero_grad() # gradient 초기화\n",
        "    \n",
        "    outputs = net(inputs)\n",
        "    loss = criterion(outputs,labels) # loss 계산\n",
        "    loss.backward() # loss gradient 역전파\n",
        "    optimizer.step() # 가중치 update\n",
        "\n",
        "    running_loss += loss.item()\n",
        "    if i % 2000 == 1999:\n",
        "      print('%d, %d, loss : %.3f'%(epoch+1,i+1,running_loss/2000))\n",
        "      running_loss = 0.0\n",
        "print('finish')"
      ],
      "execution_count": 52,
      "outputs": [
        {
          "output_type": "stream",
          "text": [
            "1, 2000, loss : 1.920\n",
            "1, 4000, loss : 1.653\n",
            "1, 6000, loss : 1.546\n",
            "1, 8000, loss : 1.471\n",
            "1, 10000, loss : 1.416\n",
            "1, 12000, loss : 1.404\n",
            "2, 2000, loss : 1.331\n",
            "2, 4000, loss : 1.332\n",
            "2, 6000, loss : 1.301\n",
            "2, 8000, loss : 1.289\n",
            "2, 10000, loss : 1.277\n",
            "2, 12000, loss : 1.259\n",
            "finish\n"
          ],
          "name": "stdout"
        }
      ]
    },
    {
      "cell_type": "markdown",
      "metadata": {
        "id": "VoICgBKjwNOS",
        "colab_type": "text"
      },
      "source": [
        "## predict"
      ]
    },
    {
      "cell_type": "code",
      "metadata": {
        "id": "LPkrCC5PsGoX",
        "colab_type": "code",
        "colab": {
          "base_uri": "https://localhost:8080/",
          "height": 34
        },
        "outputId": "d8746694-959c-4472-9ed0-176a102276eb"
      },
      "source": [
        "correct = 0\n",
        "total = 0\n",
        "with torch.no_grad():\n",
        "    for data in testloader:\n",
        "        images, labels = data\n",
        "        outputs = net(images)\n",
        "        _, predicted = torch.max(outputs.data, 1)\n",
        "        total += labels.size(0)\n",
        "        correct += (predicted == labels).sum().item()\n",
        "\n",
        "print('Accuracy of the network on the 10000 test images: %d %%' % (\n",
        "    100 * correct / total))"
      ],
      "execution_count": 53,
      "outputs": [
        {
          "output_type": "stream",
          "text": [
            "Accuracy of the network on the 10000 test images: 56 %\n"
          ],
          "name": "stdout"
        }
      ]
    },
    {
      "cell_type": "code",
      "metadata": {
        "id": "IRkpDx4V1aTh",
        "colab_type": "code",
        "colab": {}
      },
      "source": [
        ""
      ],
      "execution_count": 0,
      "outputs": []
    },
    {
      "cell_type": "code",
      "metadata": {
        "id": "7EzNGP6Swl6L",
        "colab_type": "code",
        "colab": {}
      },
      "source": [
        ""
      ],
      "execution_count": 0,
      "outputs": []
    }
  ]
}