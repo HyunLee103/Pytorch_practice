{
  "nbformat": 4,
  "nbformat_minor": 0,
  "metadata": {
    "colab": {
      "name": "Pytoch_tutorial_1.ipynb",
      "provenance": []
    },
    "kernelspec": {
      "name": "python3",
      "display_name": "Python 3"
    }
  },
  "cells": [
    {
      "cell_type": "markdown",
      "metadata": {
        "id": "lxZBNRP_LGnf",
        "colab_type": "text"
      },
      "source": [
        "https://tutorials.pytorch.kr/beginner/deep_learning_60min_blitz.html \n",
        "pytorch tutorial 내용을 공부하며 정리했습니다."
      ]
    },
    {
      "cell_type": "code",
      "metadata": {
        "id": "hrca_lWqle5Y",
        "colab_type": "code",
        "colab": {}
      },
      "source": [
        "from __future__ import print_function\n",
        "import torch\n",
        "import numpy as np"
      ],
      "execution_count": 0,
      "outputs": []
    },
    {
      "cell_type": "markdown",
      "metadata": {
        "id": "tQ2DFuCZqzIA",
        "colab_type": "text"
      },
      "source": [
        "## Tensors\n",
        "array와 유사하고 GPU 연산 가속 가능"
      ]
    },
    {
      "cell_type": "code",
      "metadata": {
        "id": "3lmIaK-BqeeH",
        "colab_type": "code",
        "outputId": "ffc436f9-b818-4bc2-b0cf-31b2636160a7",
        "colab": {
          "base_uri": "https://localhost:8080/",
          "height": 105
        }
      },
      "source": [
        "x = torch.empty(5,3) ;x"
      ],
      "execution_count": 0,
      "outputs": [
        {
          "output_type": "execute_result",
          "data": {
            "text/plain": [
              "tensor([[5.7124e-36, 0.0000e+00, 0.0000e+00],\n",
              "        [0.0000e+00, 0.0000e+00, 0.0000e+00],\n",
              "        [0.0000e+00, 0.0000e+00, 2.8026e-45],\n",
              "        [0.0000e+00, 1.1210e-44, 0.0000e+00],\n",
              "        [1.4013e-45, 0.0000e+00, 0.0000e+00]])"
            ]
          },
          "metadata": {
            "tags": []
          },
          "execution_count": 4
        }
      ]
    },
    {
      "cell_type": "code",
      "metadata": {
        "id": "pD6NuXi9q-Ud",
        "colab_type": "code",
        "outputId": "5c0af03a-6079-4916-f673-84f4b14dd577",
        "colab": {
          "base_uri": "https://localhost:8080/",
          "height": 105
        }
      },
      "source": [
        "x = torch.rand(5,3) ;x"
      ],
      "execution_count": 0,
      "outputs": [
        {
          "output_type": "execute_result",
          "data": {
            "text/plain": [
              "tensor([[0.6385, 0.4690, 0.1798],\n",
              "        [0.1305, 0.4047, 0.8124],\n",
              "        [0.4817, 0.3741, 0.1926],\n",
              "        [0.8437, 0.0204, 0.1638],\n",
              "        [0.8566, 0.5624, 0.0056]])"
            ]
          },
          "metadata": {
            "tags": []
          },
          "execution_count": 6
        }
      ]
    },
    {
      "cell_type": "code",
      "metadata": {
        "id": "qRe2_dbSrErS",
        "colab_type": "code",
        "outputId": "2f07bff0-9dd5-4e26-842d-f3cfa701af7b",
        "colab": {
          "base_uri": "https://localhost:8080/",
          "height": 105
        }
      },
      "source": [
        "x = torch.zeros(5,3,dtype=torch.long) ;x"
      ],
      "execution_count": 0,
      "outputs": [
        {
          "output_type": "execute_result",
          "data": {
            "text/plain": [
              "tensor([[0, 0, 0],\n",
              "        [0, 0, 0],\n",
              "        [0, 0, 0],\n",
              "        [0, 0, 0],\n",
              "        [0, 0, 0]])"
            ]
          },
          "metadata": {
            "tags": []
          },
          "execution_count": 9
        }
      ]
    },
    {
      "cell_type": "code",
      "metadata": {
        "id": "OeDsQ_0CrPEY",
        "colab_type": "code",
        "outputId": "1b05ae8d-1b5f-44f0-dbf7-d9c817a615ef",
        "colab": {
          "base_uri": "https://localhost:8080/",
          "height": 105
        }
      },
      "source": [
        "x = x.new_ones(5,3,dtype=torch.double) ;x\n",
        "x = torch.randn_like(x) ;x"
      ],
      "execution_count": 0,
      "outputs": [
        {
          "output_type": "execute_result",
          "data": {
            "text/plain": [
              "tensor([[ 1.1777, -0.1160,  0.0835],\n",
              "        [-0.0236,  0.5521,  0.3640],\n",
              "        [-0.8477, -0.9314,  0.7829],\n",
              "        [ 0.1074,  0.7407, -1.3487],\n",
              "        [-1.7297, -1.1135,  0.0645]], dtype=torch.float64)"
            ]
          },
          "metadata": {
            "tags": []
          },
          "execution_count": 12
        }
      ]
    },
    {
      "cell_type": "code",
      "metadata": {
        "id": "OSGoyeW5rqjJ",
        "colab_type": "code",
        "outputId": "93dcc062-903c-41f3-9c32-6e5e46b325e3",
        "colab": {
          "base_uri": "https://localhost:8080/",
          "height": 34
        }
      },
      "source": [
        "print(x.size())"
      ],
      "execution_count": 0,
      "outputs": [
        {
          "output_type": "stream",
          "text": [
            "torch.Size([5, 3])\n"
          ],
          "name": "stdout"
        }
      ]
    },
    {
      "cell_type": "code",
      "metadata": {
        "id": "1G4KLzKBr1NH",
        "colab_type": "code",
        "outputId": "281d3c5f-fce4-4f8f-d3b7-1b25bbe8b0cd",
        "colab": {
          "base_uri": "https://localhost:8080/",
          "height": 34
        }
      },
      "source": [
        "x = torch.randn(4,4)\n",
        "y = x.view(16)\n",
        "z = x.view(-1,8)\n",
        "print(x.size(),y.size(),z.size())"
      ],
      "execution_count": 0,
      "outputs": [
        {
          "output_type": "stream",
          "text": [
            "torch.Size([4, 4]) torch.Size([16]) torch.Size([2, 8])\n"
          ],
          "name": "stdout"
        }
      ]
    },
    {
      "cell_type": "markdown",
      "metadata": {
        "id": "TgMzM0PHtdig",
        "colab_type": "text"
      },
      "source": [
        "## AutoGrad\n",
        "Tensor의 모든 연산에 대해 자동 미분을 제공"
      ]
    },
    {
      "cell_type": "code",
      "metadata": {
        "id": "PwWKpJBosgm9",
        "colab_type": "code",
        "outputId": "f7af14a8-aca4-4330-8961-abedd16bfb36",
        "colab": {
          "base_uri": "https://localhost:8080/",
          "height": 52
        }
      },
      "source": [
        "x = torch.ones(2,2,requires_grad=True) ;x"
      ],
      "execution_count": 0,
      "outputs": [
        {
          "output_type": "execute_result",
          "data": {
            "text/plain": [
              "tensor([[1., 1.],\n",
              "        [1., 1.]], requires_grad=True)"
            ]
          },
          "metadata": {
            "tags": []
          },
          "execution_count": 16
        }
      ]
    },
    {
      "cell_type": "code",
      "metadata": {
        "id": "QpmgNeb63U3k",
        "colab_type": "code",
        "outputId": "24ff1404-096c-44a7-8079-92c511ec4554",
        "colab": {
          "base_uri": "https://localhost:8080/",
          "height": 52
        }
      },
      "source": [
        "y = x+2 ;y"
      ],
      "execution_count": 0,
      "outputs": [
        {
          "output_type": "execute_result",
          "data": {
            "text/plain": [
              "tensor([[3., 3.],\n",
              "        [3., 3.]], grad_fn=<AddBackward0>)"
            ]
          },
          "metadata": {
            "tags": []
          },
          "execution_count": 17
        }
      ]
    },
    {
      "cell_type": "code",
      "metadata": {
        "id": "0FzLzRRN3YAX",
        "colab_type": "code",
        "outputId": "6b6718a5-9356-42df-8fa9-8c3a6a917b96",
        "colab": {
          "base_uri": "https://localhost:8080/",
          "height": 34
        }
      },
      "source": [
        "print(y.grad_fn)"
      ],
      "execution_count": 0,
      "outputs": [
        {
          "output_type": "stream",
          "text": [
            "<AddBackward0 object at 0x7f8895153d68>\n"
          ],
          "name": "stdout"
        }
      ]
    },
    {
      "cell_type": "code",
      "metadata": {
        "id": "f2f4oAMr3biP",
        "colab_type": "code",
        "outputId": "946384d4-f893-4273-c286-9676b534a2d6",
        "colab": {
          "base_uri": "https://localhost:8080/",
          "height": 52
        }
      },
      "source": [
        "z = y * y * 3\n",
        "out = z.mean() \n",
        "print(z,out)"
      ],
      "execution_count": 0,
      "outputs": [
        {
          "output_type": "stream",
          "text": [
            "tensor([[27., 27.],\n",
            "        [27., 27.]], grad_fn=<MulBackward0>) tensor(27., grad_fn=<MeanBackward0>)\n"
          ],
          "name": "stdout"
        }
      ]
    },
    {
      "cell_type": "code",
      "metadata": {
        "id": "La7IVYdY3kPF",
        "colab_type": "code",
        "colab": {}
      },
      "source": [
        "out.backward()"
      ],
      "execution_count": 0,
      "outputs": []
    },
    {
      "cell_type": "code",
      "metadata": {
        "id": "v2zna1mn3_wo",
        "colab_type": "code",
        "outputId": "8e3c0fe2-77de-4dfe-a87c-3512a53b86dc",
        "colab": {
          "base_uri": "https://localhost:8080/",
          "height": 52
        }
      },
      "source": [
        "print(x.grad)"
      ],
      "execution_count": 0,
      "outputs": [
        {
          "output_type": "stream",
          "text": [
            "tensor([[4.5000, 4.5000],\n",
            "        [4.5000, 4.5000]])\n"
          ],
          "name": "stdout"
        }
      ]
    },
    {
      "cell_type": "code",
      "metadata": {
        "id": "vee03YLA4DMO",
        "colab_type": "code",
        "outputId": "83573d0f-177e-44a9-f5e7-b4777548de2a",
        "colab": {
          "base_uri": "https://localhost:8080/",
          "height": 34
        }
      },
      "source": [
        "x = torch.randn(3,requires_grad=True)\n",
        "y = x * 2\n",
        "while y.data.norm() < 1000:\n",
        "  y = y * 2\n",
        "print(y)"
      ],
      "execution_count": 0,
      "outputs": [
        {
          "output_type": "stream",
          "text": [
            "tensor([ 717.7164, 1102.6045,  732.0330], grad_fn=<MulBackward0>)\n"
          ],
          "name": "stdout"
        }
      ]
    },
    {
      "cell_type": "markdown",
      "metadata": {
        "id": "wMKBU5Uh4uQl",
        "colab_type": "text"
      },
      "source": [
        "## Neural Networks"
      ]
    },
    {
      "cell_type": "code",
      "metadata": {
        "id": "kR7MS3dv4eK3",
        "colab_type": "code",
        "colab": {}
      },
      "source": [
        "import torch.nn as nn\n",
        "import torch.nn.functional as F"
      ],
      "execution_count": 0,
      "outputs": []
    },
    {
      "cell_type": "code",
      "metadata": {
        "id": "ImTq9Nwm5IFZ",
        "colab_type": "code",
        "colab": {}
      },
      "source": [
        "class Net(nn.Module):\n",
        "\n",
        "  def __init__(self):\n",
        "    super(Net,self).__init__()\n",
        "    self.conv1 = nn.Conv2d(1,6,3)\n",
        "    self.conv2 = nn.Conv2d(6,16,3)\n",
        "    self.fc1 = nn.Linear(16*6*6,120) \n",
        "    self.fc2 = nn.Linear(120,84)\n",
        "    self.fc3 = nn.Linear(84,10)\n",
        "\n",
        "  def forward(self, x):\n",
        "    x = F.max_pool2d(F.relu(self.conv1(x)),(2,2))\n",
        "    x = F.max_pool2d(F.relu(self.conv2(x)),2)\n",
        "    x = torch.flatten(x)\n",
        "    x = F.relu(self.fc1(x))\n",
        "    x = F.relu(self.fc2(x))\n",
        "    x = self.fc3(x)\n",
        "    return x"
      ],
      "execution_count": 0,
      "outputs": []
    },
    {
      "cell_type": "code",
      "metadata": {
        "id": "dguCpfBtA33_",
        "colab_type": "code",
        "outputId": "a9948605-139e-4801-eabe-2640e383a57f",
        "colab": {
          "base_uri": "https://localhost:8080/",
          "height": 141
        }
      },
      "source": [
        "net = Net()\n",
        "print(net)"
      ],
      "execution_count": 4,
      "outputs": [
        {
          "output_type": "stream",
          "text": [
            "Net(\n",
            "  (conv1): Conv2d(1, 6, kernel_size=(3, 3), stride=(1, 1))\n",
            "  (conv2): Conv2d(6, 16, kernel_size=(3, 3), stride=(1, 1))\n",
            "  (fc1): Linear(in_features=576, out_features=120, bias=True)\n",
            "  (fc2): Linear(in_features=120, out_features=84, bias=True)\n",
            "  (fc3): Linear(in_features=84, out_features=10, bias=True)\n",
            ")\n"
          ],
          "name": "stdout"
        }
      ]
    },
    {
      "cell_type": "code",
      "metadata": {
        "id": "RAjEYgsyBATT",
        "colab_type": "code",
        "outputId": "76f0e9b5-4a91-4933-b6f0-5614f16257ef",
        "colab": {
          "base_uri": "https://localhost:8080/",
          "height": 52
        }
      },
      "source": [
        "params = list(net.parameters())\n",
        "print(len(params))\n",
        "print(params[0].size()) # 첫번째 layer weight shape"
      ],
      "execution_count": 5,
      "outputs": [
        {
          "output_type": "stream",
          "text": [
            "10\n",
            "torch.Size([6, 1, 3, 3])\n"
          ],
          "name": "stdout"
        }
      ]
    },
    {
      "cell_type": "code",
      "metadata": {
        "id": "5UW-Zdi9Bzsh",
        "colab_type": "code",
        "outputId": "85c2a2cb-849c-45b9-a46b-76096e7e5a09",
        "colab": {
          "base_uri": "https://localhost:8080/",
          "height": 52
        }
      },
      "source": [
        "input = torch.randn(1,1,32,32) # nSample(batchsize) x 채널 x 행 x 열\n",
        "out = net(input) \n",
        "print(out.shape, out)"
      ],
      "execution_count": 6,
      "outputs": [
        {
          "output_type": "stream",
          "text": [
            "torch.Size([10]) tensor([ 0.0784, -0.0616,  0.0028, -0.1220,  0.0737, -0.0568, -0.0487,  0.0606,\n",
            "         0.1519,  0.0397], grad_fn=<AddBackward0>)\n"
          ],
          "name": "stdout"
        }
      ]
    },
    {
      "cell_type": "code",
      "metadata": {
        "id": "hD0hOQnjDHaE",
        "colab_type": "code",
        "colab": {}
      },
      "source": [
        "net.zero_grad() # 네트워크 gradient 0으로 초기화\n",
        "out.backward(torch.randn(10))"
      ],
      "execution_count": 0,
      "outputs": []
    },
    {
      "cell_type": "markdown",
      "metadata": {
        "id": "pvxYLoTQExpD",
        "colab_type": "text"
      },
      "source": [
        "## Loss function"
      ]
    },
    {
      "cell_type": "code",
      "metadata": {
        "id": "6_TGnRzVEbg0",
        "colab_type": "code",
        "colab": {}
      },
      "source": [
        "output = net(input)\n",
        "target = torch.randn(10)\n",
        "criterion = nn.MSELoss()"
      ],
      "execution_count": 0,
      "outputs": []
    },
    {
      "cell_type": "code",
      "metadata": {
        "id": "SumwN9qyFYFS",
        "colab_type": "code",
        "outputId": "73b9fc6d-2029-4166-e5e0-56fa1559ed32",
        "colab": {
          "base_uri": "https://localhost:8080/",
          "height": 34
        }
      },
      "source": [
        "loss = criterion(output,target)\n",
        "print(loss)"
      ],
      "execution_count": 9,
      "outputs": [
        {
          "output_type": "stream",
          "text": [
            "tensor(0.8623, grad_fn=<MseLossBackward>)\n"
          ],
          "name": "stdout"
        }
      ]
    },
    {
      "cell_type": "markdown",
      "metadata": {
        "id": "ImAy2bbzHMpw",
        "colab_type": "text"
      },
      "source": [
        " .grad_fn 속성을 사용하여 loss 를 역방향에서 따라가다보면, 이러한 모습의 연산 그래프를 볼 수 있습니다.\n",
        "\n",
        "input -> conv2d -> relu -> maxpool2d -> conv2d -> relu -> maxpool2d\n",
        "      -> view -> linear -> relu -> linear -> relu -> linear\n",
        "      -> MSELoss\n",
        "      -> loss"
      ]
    },
    {
      "cell_type": "code",
      "metadata": {
        "id": "pMrX0ntEG6rv",
        "colab_type": "code",
        "outputId": "cd54307d-7de2-4719-dd73-119295205943",
        "colab": {
          "base_uri": "https://localhost:8080/",
          "height": 70
        }
      },
      "source": [
        "print(loss.grad_fn)  # MSELoss\n",
        "print(loss.grad_fn.next_functions[0][0])  # Linear\n",
        "print(loss.grad_fn.next_functions[0][0].next_functions[0][0])  # ReLU"
      ],
      "execution_count": 10,
      "outputs": [
        {
          "output_type": "stream",
          "text": [
            "<MseLossBackward object at 0x7f7788371b70>\n",
            "<AddBackward0 object at 0x7f7788371ac8>\n",
            "<SqueezeBackward3 object at 0x7f7788371b70>\n"
          ],
          "name": "stdout"
        }
      ]
    },
    {
      "cell_type": "markdown",
      "metadata": {
        "id": "92PadFAgHSQF",
        "colab_type": "text"
      },
      "source": [
        "## Backprop\n",
        "역전파 전과 후에 conv1의 bias gradient를 살펴보겠습니다."
      ]
    },
    {
      "cell_type": "code",
      "metadata": {
        "id": "PsUbY2wtHXet",
        "colab_type": "code",
        "outputId": "acf73735-887a-4a47-f96a-a7c28eee711d",
        "colab": {
          "base_uri": "https://localhost:8080/",
          "height": 123
        }
      },
      "source": [
        "net.zero_grad()\n",
        "print('con1.bias.grad')\n",
        "print(net.conv1.bias.grad)\n",
        "\n",
        "loss.backward(retain_graph=True) # 오차 역전파\n",
        "\n",
        "print('con1.bias.grad')\n",
        "print(net.conv1.bias.grad)\n",
        "\n",
        "loss.backward(retain_graph=True)\n",
        "print('con1.bias.grad')\n",
        "print(net.conv1.bias.grad)"
      ],
      "execution_count": 11,
      "outputs": [
        {
          "output_type": "stream",
          "text": [
            "con1.bias.grad\n",
            "tensor([0., 0., 0., 0., 0., 0.])\n",
            "con1.bias.grad\n",
            "tensor([-0.0055,  0.0051, -0.0085,  0.0007,  0.0237, -0.0217])\n",
            "con1.bias.grad\n",
            "tensor([-0.0110,  0.0102, -0.0171,  0.0014,  0.0474, -0.0433])\n"
          ],
          "name": "stdout"
        }
      ]
    },
    {
      "cell_type": "markdown",
      "metadata": {
        "id": "5gNCf1q1JQYz",
        "colab_type": "text"
      },
      "source": [
        "## update weight(optimizer)"
      ]
    },
    {
      "cell_type": "code",
      "metadata": {
        "id": "SwNCV1qeH5Tl",
        "colab_type": "code",
        "colab": {}
      },
      "source": [
        "import torch.optim as optim\n",
        "\n",
        "optimizer = optim.SGD(net.parameters(), lr = 0.001)\n",
        "\n",
        "optimizer.zero_grad()\n",
        "output = net(input)\n",
        "loss = criterion(output,target)\n",
        "loss.backward()\n",
        "optimizer.step()"
      ],
      "execution_count": 0,
      "outputs": []
    },
    {
      "cell_type": "code",
      "metadata": {
        "id": "69koOiVCKNJ6",
        "colab_type": "code",
        "colab": {}
      },
      "source": [
        ""
      ],
      "execution_count": 0,
      "outputs": []
    }
  ]
}